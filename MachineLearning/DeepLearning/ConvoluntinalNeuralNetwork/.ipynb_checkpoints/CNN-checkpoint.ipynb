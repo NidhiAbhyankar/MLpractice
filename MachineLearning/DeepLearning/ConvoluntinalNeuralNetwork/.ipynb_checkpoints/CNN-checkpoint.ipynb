{
 "cells": [
  {
   "cell_type": "markdown",
   "metadata": {},
   "source": [
    "# Convoluntional Neural Network"
   ]
  },
  {
   "cell_type": "markdown",
   "metadata": {},
   "source": [
    "# Data Preprocessing"
   ]
  },
  {
   "cell_type": "code",
   "execution_count": 1,
   "metadata": {},
   "outputs": [],
   "source": [
    "import tensorflow as tf\n",
    "from keras.preprocessing.image import ImageDataGenerator"
   ]
  },
  {
   "cell_type": "code",
   "execution_count": 2,
   "metadata": {},
   "outputs": [
    {
     "data": {
      "text/plain": [
       "'2.6.0'"
      ]
     },
     "execution_count": 2,
     "metadata": {},
     "output_type": "execute_result"
    }
   ],
   "source": [
    "tf.__version__"
   ]
  },
  {
   "cell_type": "markdown",
   "metadata": {},
   "source": [
    "# Preprocessing training set"
   ]
  },
  {
   "cell_type": "code",
   "execution_count": 3,
   "metadata": {},
   "outputs": [
    {
     "name": "stdout",
     "output_type": "stream",
     "text": [
      "Found 8000 images belonging to 2 classes.\n"
     ]
    }
   ],
   "source": [
    "train_datagen = ImageDataGenerator(\n",
    "        rescale=1./255,\n",
    "        shear_range=0.2,\n",
    "        zoom_range=0.2,\n",
    "        horizontal_flip=True)\n",
    "training_set = train_datagen.flow_from_directory(\n",
    "        'training_set',\n",
    "        target_size=(64, 64),\n",
    "        batch_size=32,\n",
    "        class_mode='binary')"
   ]
  },
  {
   "cell_type": "markdown",
   "metadata": {},
   "source": [
    "# Preprocessing the test set"
   ]
  },
  {
   "cell_type": "code",
   "execution_count": 4,
   "metadata": {},
   "outputs": [
    {
     "name": "stdout",
     "output_type": "stream",
     "text": [
      "Found 2000 images belonging to 2 classes.\n"
     ]
    }
   ],
   "source": [
    "test_datagen = ImageDataGenerator(rescale=1./255)\n",
    "test_set = test_datagen.flow_from_directory(\n",
    "        'test_set',\n",
    "        target_size=(64,64),\n",
    "        batch_size=32,\n",
    "        class_mode='binary')"
   ]
  },
  {
   "cell_type": "markdown",
   "metadata": {},
   "source": [
    "# Building the CNN"
   ]
  },
  {
   "cell_type": "markdown",
   "metadata": {},
   "source": [
    "# Initialising the CNN"
   ]
  },
  {
   "cell_type": "code",
   "execution_count": 5,
   "metadata": {},
   "outputs": [],
   "source": [
    "cnn=tf.keras.models.Sequential()"
   ]
  },
  {
   "cell_type": "markdown",
   "metadata": {},
   "source": [
    "# Step1- Convolution"
   ]
  },
  {
   "cell_type": "code",
   "execution_count": 6,
   "metadata": {},
   "outputs": [],
   "source": [
    "cnn.add(tf.keras.layers.Conv2D(filters=32,kernel_size=3,activation='relu',input_shape=[64,64,3]))"
   ]
  },
  {
   "cell_type": "markdown",
   "metadata": {},
   "source": [
    "# Step2- Pooling"
   ]
  },
  {
   "cell_type": "code",
   "execution_count": 7,
   "metadata": {},
   "outputs": [],
   "source": [
    "cnn.add(tf.keras.layers.MaxPool2D(pool_size=2,strides=2))"
   ]
  },
  {
   "cell_type": "markdown",
   "metadata": {},
   "source": [
    "# Adding a second convolutional layer "
   ]
  },
  {
   "cell_type": "code",
   "execution_count": 8,
   "metadata": {},
   "outputs": [],
   "source": [
    "cnn.add(tf.keras.layers.Conv2D(filters=32,kernel_size=3,activation='relu'))\n",
    "cnn.add(tf.keras.layers.MaxPool2D(pool_size=2,strides=2))"
   ]
  },
  {
   "cell_type": "markdown",
   "metadata": {},
   "source": [
    "# Step3- Flattening"
   ]
  },
  {
   "cell_type": "code",
   "execution_count": 9,
   "metadata": {},
   "outputs": [],
   "source": [
    "cnn.add(tf.keras.layers.Flatten())"
   ]
  },
  {
   "cell_type": "markdown",
   "metadata": {},
   "source": [
    "# Step4- Full Connection"
   ]
  },
  {
   "cell_type": "code",
   "execution_count": 10,
   "metadata": {},
   "outputs": [],
   "source": [
    "cnn.add(tf.keras.layers.Dense(units=128,activation='relu'))"
   ]
  },
  {
   "cell_type": "markdown",
   "metadata": {},
   "source": [
    "# Step5- Output Layer"
   ]
  },
  {
   "cell_type": "code",
   "execution_count": 11,
   "metadata": {},
   "outputs": [],
   "source": [
    "cnn.add(tf.keras.layers.Dense(units=1,activation='sigmoid'))"
   ]
  },
  {
   "cell_type": "markdown",
   "metadata": {},
   "source": [
    "# Training the CNN"
   ]
  },
  {
   "cell_type": "markdown",
   "metadata": {},
   "source": [
    "# Compiling the CNN"
   ]
  },
  {
   "cell_type": "code",
   "execution_count": 12,
   "metadata": {},
   "outputs": [],
   "source": [
    "cnn.compile(optimizer='adam',loss='binary_crossentropy',metrics=['accuracy'])"
   ]
  },
  {
   "cell_type": "markdown",
   "metadata": {},
   "source": [
    "# Training the CNN on training set and evaluating on the test set"
   ]
  },
  {
   "cell_type": "code",
   "execution_count": 16,
   "metadata": {},
   "outputs": [
    {
     "name": "stdout",
     "output_type": "stream",
     "text": [
      "Epoch 1/25\n",
      "250/250 [==============================] - 315s 1s/step - loss: 0.6748 - accuracy: 0.5775 - val_loss: 0.6160 - val_accuracy: 0.6760\n",
      "Epoch 2/25\n",
      "250/250 [==============================] - 57s 226ms/step - loss: 0.5946 - accuracy: 0.6802 - val_loss: 0.5890 - val_accuracy: 0.6935\n",
      "Epoch 3/25\n",
      "250/250 [==============================] - 49s 196ms/step - loss: 0.5573 - accuracy: 0.7084 - val_loss: 0.5233 - val_accuracy: 0.7440\n",
      "Epoch 4/25\n",
      "250/250 [==============================] - 49s 197ms/step - loss: 0.5338 - accuracy: 0.7274 - val_loss: 0.4985 - val_accuracy: 0.7555\n",
      "Epoch 5/25\n",
      "250/250 [==============================] - 49s 198ms/step - loss: 0.5111 - accuracy: 0.7442 - val_loss: 0.5365 - val_accuracy: 0.7445\n",
      "Epoch 6/25\n",
      "250/250 [==============================] - 50s 198ms/step - loss: 0.4830 - accuracy: 0.7678 - val_loss: 0.4832 - val_accuracy: 0.7700\n",
      "Epoch 7/25\n",
      "250/250 [==============================] - 61s 242ms/step - loss: 0.4670 - accuracy: 0.7797 - val_loss: 0.4880 - val_accuracy: 0.7695\n",
      "Epoch 8/25\n",
      "250/250 [==============================] - 60s 238ms/step - loss: 0.4547 - accuracy: 0.7855 - val_loss: 0.4931 - val_accuracy: 0.7695\n",
      "Epoch 9/25\n",
      "250/250 [==============================] - 71s 284ms/step - loss: 0.4428 - accuracy: 0.7924 - val_loss: 0.4729 - val_accuracy: 0.7875\n",
      "Epoch 10/25\n",
      "250/250 [==============================] - 58s 231ms/step - loss: 0.4205 - accuracy: 0.8049 - val_loss: 0.5081 - val_accuracy: 0.7605\n",
      "Epoch 11/25\n",
      "250/250 [==============================] - 55s 221ms/step - loss: 0.4116 - accuracy: 0.8085 - val_loss: 0.4582 - val_accuracy: 0.7950\n",
      "Epoch 12/25\n",
      "250/250 [==============================] - 51s 203ms/step - loss: 0.3991 - accuracy: 0.8139 - val_loss: 0.4465 - val_accuracy: 0.8005\n",
      "Epoch 13/25\n",
      "250/250 [==============================] - 48s 194ms/step - loss: 0.3876 - accuracy: 0.8202 - val_loss: 0.4636 - val_accuracy: 0.7880\n",
      "Epoch 14/25\n",
      "250/250 [==============================] - 96s 385ms/step - loss: 0.3819 - accuracy: 0.8301 - val_loss: 0.5034 - val_accuracy: 0.7810\n",
      "Epoch 15/25\n",
      "250/250 [==============================] - 82s 329ms/step - loss: 0.3761 - accuracy: 0.8288 - val_loss: 0.4723 - val_accuracy: 0.7820\n",
      "Epoch 16/25\n",
      "250/250 [==============================] - 53s 213ms/step - loss: 0.3550 - accuracy: 0.8432 - val_loss: 0.4752 - val_accuracy: 0.7920\n",
      "Epoch 17/25\n",
      "250/250 [==============================] - 50s 199ms/step - loss: 0.3506 - accuracy: 0.8455 - val_loss: 0.5125 - val_accuracy: 0.7860\n",
      "Epoch 18/25\n",
      "250/250 [==============================] - 56s 224ms/step - loss: 0.3454 - accuracy: 0.8420 - val_loss: 0.4375 - val_accuracy: 0.8050\n",
      "Epoch 19/25\n",
      "250/250 [==============================] - 50s 199ms/step - loss: 0.3223 - accuracy: 0.8600 - val_loss: 0.4486 - val_accuracy: 0.8115\n",
      "Epoch 20/25\n",
      "250/250 [==============================] - 50s 200ms/step - loss: 0.3137 - accuracy: 0.8629 - val_loss: 0.4592 - val_accuracy: 0.8090\n",
      "Epoch 21/25\n",
      "250/250 [==============================] - 108s 431ms/step - loss: 0.2995 - accuracy: 0.8702 - val_loss: 0.5314 - val_accuracy: 0.7855\n",
      "Epoch 22/25\n",
      "250/250 [==============================] - 133s 534ms/step - loss: 0.2923 - accuracy: 0.8679 - val_loss: 0.4691 - val_accuracy: 0.8015\n",
      "Epoch 23/25\n",
      "250/250 [==============================] - 116s 465ms/step - loss: 0.2899 - accuracy: 0.8784 - val_loss: 0.5385 - val_accuracy: 0.7915\n",
      "Epoch 24/25\n",
      "250/250 [==============================] - 100s 399ms/step - loss: 0.2621 - accuracy: 0.8910 - val_loss: 0.5050 - val_accuracy: 0.8060\n",
      "Epoch 25/25\n",
      "250/250 [==============================] - 67s 268ms/step - loss: 0.2541 - accuracy: 0.8953 - val_loss: 0.5403 - val_accuracy: 0.7880\n"
     ]
    },
    {
     "data": {
      "text/plain": [
       "<keras.callbacks.History at 0x1bd422866d0>"
      ]
     },
     "execution_count": 16,
     "metadata": {},
     "output_type": "execute_result"
    }
   ],
   "source": [
    "cnn.fit(x=training_set,validation_data=test_set,epochs=25)"
   ]
  },
  {
   "cell_type": "markdown",
   "metadata": {},
   "source": [
    "# Making a single prediction"
   ]
  },
  {
   "cell_type": "code",
   "execution_count": 24,
   "metadata": {},
   "outputs": [],
   "source": [
    "import numpy as np\n",
    "from keras.preprocessing import image\n",
    "test_image=image.load_img('single_prediction/cat_or_dog_1.jpg',target_size=(64,64))\n",
    "test_image=image.img_to_array(test_image)\n",
    "test_image=np.expand_dims(test_image,axis=0)\n",
    "result=cnn.predict(test_image)\n",
    "training_set.class_indices\n",
    "if result[0][0]==1:\n",
    "    prediction='dog'\n",
    "else:\n",
    "    prediction='cat'\n",
    "\n"
   ]
  },
  {
   "cell_type": "code",
   "execution_count": 25,
   "metadata": {},
   "outputs": [
    {
     "name": "stdout",
     "output_type": "stream",
     "text": [
      "dog\n"
     ]
    }
   ],
   "source": [
    "print(prediction)"
   ]
  },
  {
   "cell_type": "code",
   "execution_count": null,
   "metadata": {},
   "outputs": [],
   "source": []
  }
 ],
 "metadata": {
  "kernelspec": {
   "display_name": "Python 3",
   "language": "python",
   "name": "python3"
  },
  "language_info": {
   "codemirror_mode": {
    "name": "ipython",
    "version": 3
   },
   "file_extension": ".py",
   "mimetype": "text/x-python",
   "name": "python",
   "nbconvert_exporter": "python",
   "pygments_lexer": "ipython3",
   "version": "3.8.6rc1"
  }
 },
 "nbformat": 4,
 "nbformat_minor": 4
}
