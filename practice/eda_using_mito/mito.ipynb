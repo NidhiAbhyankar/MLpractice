{
 "cells": [
  {
   "cell_type": "code",
   "execution_count": 1,
   "metadata": {},
   "outputs": [],
   "source": [
    "import mitosheet"
   ]
  },
  {
   "cell_type": "code",
   "execution_count": 2,
   "metadata": {},
   "outputs": [
    {
     "data": {
      "application/vnd.jupyter.widget-view+json": {
       "model_id": "c8f9897d2046464cac28faf7316a8e36",
       "version_major": 2,
       "version_minor": 0
      },
      "text/plain": [
       "MitoWidget(analysis_name='UUID-9b2a6e1e-f4c3-4606-a9b3-34e60cc256e8', code_json='{\"imports\": \"from mitosheet i…"
      ]
     },
     "metadata": {},
     "output_type": "display_data"
    }
   ],
   "source": [
    "mitosheet.sheet()"
   ]
  },
  {
   "cell_type": "code",
   "execution_count": null,
   "metadata": {},
   "outputs": [],
   "source": [
    "# MITO CODE START (DO NOT EDIT)\n",
    "\n",
    "from mitosheet import * # Import necessary functions from Mito\n",
    "register_analysis('UUID-9b2a6e1e-f4c3-4606-a9b3-34e60cc256e8') # Let Mito know which analysis is being run\n",
    "\n",
    "# Imported Wine.csv\n",
    "import pandas as pd\n",
    "Wine_csv = pd.read_csv(r'Wine.csv')\n",
    "\n",
    "# Sorted Flavanoids in Wine_csv in ascending order\n",
    "Wine_csv = Wine_csv.sort_values(by='Flavanoids', ascending=True, na_position='first')\n",
    "\n",
    "# Sorted Proanthocyanins in Wine_csv in ascending order\n",
    "Wine_csv = Wine_csv.sort_values(by='Proanthocyanins', ascending=True, na_position='first')\n",
    "\n",
    "  \n",
    "# MITO CODE END (DO NOT EDIT)"
   ]
  },
  {
   "cell_type": "code",
   "execution_count": null,
   "metadata": {},
   "outputs": [],
   "source": [
    "# Import plotly and create a figure\n",
    "import plotly.graph_objects as go\n",
    "fig = go.Figure()\n",
    "\n",
    "\n",
    "\n",
    "# Add the bar chart traces to the graph\n",
    "for column_header in ['Flavanoids']:\n",
    "    fig.add_trace(\n",
    "        go.Bar( \n",
    "            x=Wine_csv[column_header],\n",
    "            y=Wine_csv['Color_Intensity'],\n",
    "            name=column_header\n",
    "        )\n",
    "    )\n",
    "\n",
    "# Update the title and stacking mode of the graph\n",
    "# See Plotly documentation for customizations: https://plotly.com/python/reference/bar/\n",
    "fig.update_layout(\n",
    "    xaxis_title='Flavanoids',\n",
    "    yaxis_title='Color_Intensity',\n",
    "    title='Flavanoids, Color_Intensity bar chart',\n",
    "    barmode='group',\n",
    ")\n",
    "fig.show(renderer=\"iframe\")"
   ]
  },
  {
   "cell_type": "code",
   "execution_count": null,
   "metadata": {},
   "outputs": [],
   "source": []
  },
  {
   "cell_type": "code",
   "execution_count": null,
   "metadata": {},
   "outputs": [],
   "source": []
  },
  {
   "cell_type": "code",
   "execution_count": null,
   "metadata": {},
   "outputs": [],
   "source": []
  }
 ],
 "metadata": {
  "kernelspec": {
   "display_name": "Python 3",
   "language": "python",
   "name": "python3"
  },
  "language_info": {
   "codemirror_mode": {
    "name": "ipython",
    "version": 3
   },
   "file_extension": ".py",
   "mimetype": "text/x-python",
   "name": "python",
   "nbconvert_exporter": "python",
   "pygments_lexer": "ipython3",
   "version": "3.8.6rc1"
  }
 },
 "nbformat": 4,
 "nbformat_minor": 4
}
